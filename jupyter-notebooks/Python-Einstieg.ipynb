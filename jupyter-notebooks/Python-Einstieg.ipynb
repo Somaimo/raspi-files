{
 "cells": [
  {
   "cell_type": "markdown",
   "metadata": {},
   "source": [
    "# Python Programming\n",
    "\n",
    "Als (Wieder-)Einstieg in die Programmierung mit Python, wollen wir uns nochmals kurz mit den Basics der Sprache auseinandersetzen.\n",
    "\n",
    "Wenn ihr die folgenden Lernziele erreicht, seid ihr auf einem sehr guten Weg dazu, die Basics von Python zu verstehen:\n",
    "\n",
    "Die Lernenden...\n",
    "1. ...schreiben Programme mit denen Benutzereingaben abgefragt und Ausgaben auf der Konsole gemacht werden können.\n",
    "    - Beispiel: Ein einfaches Programm dass den Benutzer nach seinem Namen fragt und diesen Input dann wieder ausgibt. Siehe Beispiel unten.\n",
    "2. ...verwenden Listen und andere Datentypen um effizient und einfach auf Daten in ihren Programmen zu verwalten.\n",
    "    - Beispiel: Ein Benutzer kann ein Python Skript ausführen und diesem Suchanfragen weitergeben\n",
    "3. ...verstehen wie if Statements funktionieren und können diese Anwenden um den Programmablauf zu steuern.\n",
    "    - Beispiel siehe unten.\n",
    "4. ...setzen for und while Schleifen ein um über Daten zu iterieren oder Befehle für eine bestimmte Zeit auszuführen.\n",
    "    - Beispiel 1: Ein Skript erlaubt es den Benutzern in einem Menü bestimmte Aktionen auszuführen.\n",
    "    - Beispiel 2: Ein Skript lädt Daten aus einer Datei und verarbeitet diese nacheinander.\n",
    "5. ...können einfache Daten (aus csv oder textdateien) aus einer Datei auslesen und in eine Datei schreiben.\n",
    "    - Beispiel: Ein Skript sammelt Sensordaten und schreibt diese periodisch in eine csv Datei.\n"
   ]
  },
  {
   "cell_type": "markdown",
   "metadata": {},
   "source": [
    "## Lernziel 1: Beispiel Hallo Welt mit Benutzer Input."
   ]
  },
  {
   "cell_type": "code",
   "execution_count": 15,
   "metadata": {
    "scrolled": true
   },
   "outputs": [
    {
     "name": "stdout",
     "output_type": "stream",
     "text": [
      "Bitte gib deinen Namen ein: Marc\n",
      "\n",
      "Output:\n",
      "\n",
      "Hello Marc! Willkommen zu Python!\n"
     ]
    }
   ],
   "source": [
    "%run helloWorld.py"
   ]
  },
  {
   "cell_type": "code",
   "execution_count": null,
   "metadata": {},
   "outputs": [],
   "source": [
    "## Lernziel 3: Benutzerinput wird geprüft"
   ]
  },
  {
   "cell_type": "code",
   "execution_count": null,
   "metadata": {},
   "outputs": [],
   "source": [
    "%run "
   ]
  }
 ],
 "metadata": {
  "kernelspec": {
   "display_name": "Python 3",
   "language": "python",
   "name": "python3"
  },
  "language_info": {
   "codemirror_mode": {
    "name": "ipython",
    "version": 3
   },
   "file_extension": ".py",
   "mimetype": "text/x-python",
   "name": "python",
   "nbconvert_exporter": "python",
   "pygments_lexer": "ipython3",
   "version": "3.7.0"
  }
 },
 "nbformat": 4,
 "nbformat_minor": 2
}
